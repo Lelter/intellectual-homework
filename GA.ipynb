{
 "cells": [
  {
   "cell_type": "code",
   "execution_count": 16,
   "metadata": {},
   "outputs": [
    {
     "name": "stdout",
     "output_type": "stream",
     "text": [
      "[[0, 1, 0, 0, 1, 0, 1, 0, 0, 0], [1, 1, 1, 0, 0, 0, 0, 0, 1, 1], [0, 0, 1, 1, 1, 0, 1, 0, 0, 1], [1, 0, 1, 1, 1, 0, 0, 0, 1, 0], [1, 1, 0, 0, 1, 0, 1, 1, 0, 1], [1, 1, 1, 0, 0, 0, 0, 1, 1, 1], [0, 0, 1, 1, 0, 1, 1, 0, 0, 0], [0, 0, 0, 0, 1, 0, 1, 0, 0, 0], [1, 0, 0, 0, 1, 0, 1, 0, 0, 0], [1, 0, 0, 1, 0, 0, 0, 0, 0, 1]]\n"
     ]
    }
   ],
   "source": [
    "import random\n",
    "import math\n",
    "import matplotlib.pyplot as plt\n",
    "def species_orgin(population_size,chromosome_length):\n",
    "    population = []#种群\n",
    "    for i in range(population_size):#初始化种群\n",
    "        individual = []#个体\n",
    "        for j in range(chromosome_length):#初始化个体\n",
    "            individual.append(random.randint(0, 1))#随机产生个体\n",
    "        population.append(individual)#添加个体\n",
    "    return population[:]#返回种群\n",
    "print((species_orgin(10,10)))#测试,个体和染色体是否正确\n"
   ]
  },
  {
   "cell_type": "code",
   "execution_count": 17,
   "metadata": {},
   "outputs": [
    {
     "name": "stdout",
     "output_type": "stream",
     "text": [
      "[721.0, 232.0, 786.0, 661.0, 333.0, 112.0, 773.0, 946.0, 873.0, 360.0]\n"
     ]
    }
   ],
   "source": [
    "def translation(population,chromosome_length):#二进制转化为十进制\n",
    "    temporary_population = []#临时种群\n",
    "    for i in range(len(population)):#遍历种群\n",
    "        total=0#总和\n",
    "        for j in range(chromosome_length):\n",
    "            total+=population[i][j]*math.pow(2,j)#二进制转化为十进制\n",
    "        temporary_population.append(total)#添加个体\n",
    "    return temporary_population[:]#返回临时种群\n",
    "print((translation(species_orgin(10,10),10)))#测试,个体和染色体是否正确\n"
   ]
  },
  {
   "cell_type": "code",
   "execution_count": 24,
   "metadata": {},
   "outputs": [
    {
     "name": "stdout",
     "output_type": "stream",
     "text": [
      "[1.3206079821881636, -1.1220383802313834, 1.5478108014660656, 1.0177234640410766, 2.096696990467062, -0.24890370688723507, -1.3206623751886528, 2.1350313499259013, 0.9503791515488537, 1.6068658884525262]\n"
     ]
    }
   ],
   "source": [
    "def function(population,chromosome_length):\n",
    "    temporary_polulation = []#临时种群\n",
    "    function_value = []#函数值\n",
    "    temporary_polulation=translation(population,chromosome_length)#转化为十进制\n",
    "    for i in range(len(temporary_polulation)):#遍历临时种群\n",
    "        x=temporary_polulation[i]#取出个体\n",
    "        function_value.append(2*math.sin(x)+math.cos(x))#计算函数值\n",
    "    return function_value#返回函数值\n",
    "print((function(species_orgin(10,10),10)))#测试，适应值是否正确"
   ]
  },
  {
   "cell_type": "code",
   "execution_count": 28,
   "metadata": {},
   "outputs": [
    {
     "name": "stdout",
     "output_type": "stream",
     "text": [
      "[0.7064713144456378, 0.33900090960103196, 0.5772687464988406, 0.651856770688392, 0.0, 1.0, 0.4239252730627994, 0.3303327396164818, 0.8832901290775923, 0.3476570752351189]\n"
     ]
    }
   ],
   "source": [
    "def fitness(population,chromosome_length):#计算适应值\n",
    "    fitness_value = []#适应值总体\n",
    "    function_value = function(population,chromosome_length)#计算函数值\n",
    "    min_value = min(function_value)#取函数值的最小值\n",
    "    max_value = max(function_value)#取函数值的最大值\n",
    "    for i in range(len(function_value)):#遍历函数值\n",
    "        fitness_value.append((function_value[i]-min_value)/(max_value-min_value))#计算适应值，归一化计算 \n",
    "    return fitness_value#返回适应值\n",
    "print((fitness(species_orgin(10,10),10)))#测试，适应值是否正确"
   ]
  },
  {
   "cell_type": "code",
   "execution_count": null,
   "metadata": {},
   "outputs": [],
   "source": [
    "def sum(fitness_value):#计算适应值总和\n",
    "    sum_value = 0\n",
    "    for i in range(len(fitness_value)):#遍历适应值\n",
    "        sum_value+=fitness_value[i]#计算适应值总和\n",
    "    return sum_value#返回适应值总和\n",
    "def cumsum(fitness_value):#计算适应值累计概率\n",
    "    cumsum_value = []\n",
    "    for i in range(len(fitness_value)):#遍历适应值\n",
    "        cumsum_value.append(fitness_value[i]/sum(fitness_value))#计算适应值累计概率\n",
    "    return cumsum_value#返回适应值累计概率"
   ]
  },
  {
   "cell_type": "code",
   "execution_count": 31,
   "metadata": {},
   "outputs": [
    {
     "name": "stdout",
     "output_type": "stream",
     "text": [
      "[0.026905243348600137, 0.08577195646022892, 0.20355012873993003, 0.17997018572294407, 0.0438745332153613, 0.01013497855680626, 0.046257514737453403, 0.20048935364273107, 0.20304610557594477, 0.0]\n",
      "1\n",
      "2\n"
     ]
    },
    {
     "ename": "IndexError",
     "evalue": "list index out of range",
     "output_type": "error",
     "traceback": [
      "\u001b[1;31m---------------------------------------------------------------------------\u001b[0m",
      "\u001b[1;31mIndexError\u001b[0m                                Traceback (most recent call last)",
      "\u001b[1;32m<ipython-input-31-4f8673e53010>\u001b[0m in \u001b[0;36m<module>\u001b[1;34m\u001b[0m\n\u001b[0;32m     22\u001b[0m             \u001b[0mfitin\u001b[0m\u001b[1;33m+=\u001b[0m\u001b[1;36m1\u001b[0m\u001b[1;31m#适应值累计概率加1\u001b[0m\u001b[1;33m\u001b[0m\u001b[1;33m\u001b[0m\u001b[0m\n\u001b[0;32m     23\u001b[0m     \u001b[0mpopulation\u001b[0m\u001b[1;33m=\u001b[0m\u001b[0mnew_population\u001b[0m\u001b[1;31m#更新种群\u001b[0m\u001b[1;33m\u001b[0m\u001b[1;33m\u001b[0m\u001b[0m\n\u001b[1;32m---> 24\u001b[1;33m \u001b[0mprint\u001b[0m\u001b[1;33m(\u001b[0m\u001b[1;33m(\u001b[0m\u001b[0mselection\u001b[0m\u001b[1;33m(\u001b[0m\u001b[0mspecies_orgin\u001b[0m\u001b[1;33m(\u001b[0m\u001b[1;36m10\u001b[0m\u001b[1;33m,\u001b[0m\u001b[1;36m10\u001b[0m\u001b[1;33m)\u001b[0m\u001b[1;33m,\u001b[0m\u001b[0mfitness\u001b[0m\u001b[1;33m(\u001b[0m\u001b[0mspecies_orgin\u001b[0m\u001b[1;33m(\u001b[0m\u001b[1;36m10\u001b[0m\u001b[1;33m,\u001b[0m\u001b[1;36m10\u001b[0m\u001b[1;33m)\u001b[0m\u001b[1;33m,\u001b[0m\u001b[1;36m10\u001b[0m\u001b[1;33m)\u001b[0m\u001b[1;33m)\u001b[0m\u001b[1;33m)\u001b[0m\u001b[1;33m)\u001b[0m\u001b[1;31m#测试，选择是否正确\u001b[0m\u001b[1;33m\u001b[0m\u001b[1;33m\u001b[0m\u001b[0m\n\u001b[0m",
      "\u001b[1;32m<ipython-input-31-4f8673e53010>\u001b[0m in \u001b[0;36mselection\u001b[1;34m(population, fitness_value)\u001b[0m\n\u001b[0;32m     15\u001b[0m     \u001b[0mnew_population\u001b[0m\u001b[1;33m=\u001b[0m\u001b[0mnew_pop\u001b[0m\u001b[1;33m=\u001b[0m\u001b[0mpopulation\u001b[0m\u001b[1;31m#初始化新的种群\u001b[0m\u001b[1;33m\u001b[0m\u001b[1;33m\u001b[0m\u001b[0m\n\u001b[0;32m     16\u001b[0m     \u001b[1;32mwhile\u001b[0m \u001b[0mnewin\u001b[0m\u001b[1;33m<\u001b[0m\u001b[0mpopulation_length\u001b[0m\u001b[1;33m:\u001b[0m\u001b[1;31m#没有选择完个体\u001b[0m\u001b[1;33m\u001b[0m\u001b[1;33m\u001b[0m\u001b[0m\n\u001b[1;32m---> 17\u001b[1;33m         \u001b[1;32mif\u001b[0m \u001b[0mms\u001b[0m\u001b[1;33m[\u001b[0m\u001b[0mnewin\u001b[0m\u001b[1;33m]\u001b[0m\u001b[1;33m<\u001b[0m\u001b[0mnew_fitness\u001b[0m\u001b[1;33m[\u001b[0m\u001b[0mfitin\u001b[0m\u001b[1;33m]\u001b[0m\u001b[1;33m:\u001b[0m\u001b[1;31m#\u001b[0m\u001b[1;33m\u001b[0m\u001b[1;33m\u001b[0m\u001b[0m\n\u001b[0m\u001b[0;32m     18\u001b[0m             \u001b[0mnew_population\u001b[0m\u001b[1;33m[\u001b[0m\u001b[0mnewin\u001b[0m\u001b[1;33m]\u001b[0m\u001b[1;33m=\u001b[0m\u001b[0mpopulation\u001b[0m\u001b[1;33m[\u001b[0m\u001b[0mfitin\u001b[0m\u001b[1;33m]\u001b[0m\u001b[1;31m#选择个体\u001b[0m\u001b[1;33m\u001b[0m\u001b[1;33m\u001b[0m\u001b[0m\n\u001b[0;32m     19\u001b[0m             \u001b[0mnewin\u001b[0m\u001b[1;33m+=\u001b[0m\u001b[1;36m1\u001b[0m\u001b[1;31m#选择个体数加1\u001b[0m\u001b[1;33m\u001b[0m\u001b[1;33m\u001b[0m\u001b[0m\n",
      "\u001b[1;31mIndexError\u001b[0m: list index out of range"
     ]
    }
   ],
   "source": [
    "def selection(population,fitness_value):#选择\n",
    "    new_fitness = []#新的适应值\n",
    "    total_fitness=sum(fitness_value)#计算适应值总和\n",
    "    for i in range(len(fitness_value)):#遍历适应值\n",
    "        new_fitness.append(fitness_value[i]/total_fitness)#计算新的适应值\n",
    "    print(new_fitness)#测试，新的适应值是否正确\n",
    "    new_population = []#新的种群\n",
    "    ms=[]#选择的个体\n",
    "    population_length=pop_len=len(population)#种群长度\n",
    "    for i in range(population_length):#遍历种群\n",
    "        ms.append(random.random())#随机产生概率\n",
    "    ms.sort()#排序\n",
    "    fitin=0#适应值累计概率\n",
    "    newin=0#选择的个体\n",
    "    new_population=new_pop=population#初始化新的种群\n",
    "    while newin<population_length:#没有选择完个体\n",
    "        if ms[newin]<new_fitness[fitin]:#\n",
    "            new_population[newin]=population[fitin]#选择个体\n",
    "            newin+=1#选择个体数加1\n",
    "            print(newin)\n",
    "        else:\n",
    "            fitin+=1#适应值累计概率加1\n",
    "    population=new_population#更新种群\n",
    "print((selection(species_orgin(10,10),fitness(species_orgin(10,10),10))))#测试，选择是否正确"
   ]
  }
 ],
 "metadata": {
  "interpreter": {
   "hash": "4eaf1be304415beee96765ae99c3f893cc8312c7f1196698e6029668e9aeb3e5"
  },
  "kernelspec": {
   "display_name": "Python 3.6.8 64-bit",
   "language": "python",
   "name": "python3"
  },
  "language_info": {
   "codemirror_mode": {
    "name": "ipython",
    "version": 3
   },
   "file_extension": ".py",
   "mimetype": "text/x-python",
   "name": "python",
   "nbconvert_exporter": "python",
   "pygments_lexer": "ipython3",
   "version": "3.6.8"
  },
  "orig_nbformat": 4
 },
 "nbformat": 4,
 "nbformat_minor": 2
}
